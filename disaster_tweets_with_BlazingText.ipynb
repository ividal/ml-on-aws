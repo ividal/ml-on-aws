{
  "nbformat": 4,
  "nbformat_minor": 0,
  "metadata": {
    "colab": {
      "name": "disaster_tweets.ipynb",
      "provenance": [],
      "collapsed_sections": [
        "EDLRURBPIaQ_",
        "thpfvnKXH6H1"
      ],
      "toc_visible": true,
      "mount_file_id": "1N40KpritBEKJKofgay4JPE0BVeLTMhrH",
      "authorship_tag": "ABX9TyPGtKqhh9MLgGLaDt7xRkeA",
      "include_colab_link": true
    },
    "kernelspec": {
      "name": "python3",
      "display_name": "Python 3"
    }
  },
  "cells": [
    {
      "cell_type": "markdown",
      "metadata": {
        "id": "view-in-github",
        "colab_type": "text"
      },
      "source": [
        "<a href=\"https://colab.research.google.com/github/ividal/ml-on-aws/blob/master/disaster_tweets_with_BlazingText.ipynb\" target=\"_parent\"><img src=\"https://colab.research.google.com/assets/colab-badge.svg\" alt=\"Open In Colab\"/></a>"
      ]
    },
    {
      "cell_type": "markdown",
      "metadata": {
        "id": "UvUN0X0MrLDq",
        "colab_type": "text"
      },
      "source": [
        "# Real disaster or fake?\n",
        "------------\n",
        "\n",
        "## Problem statement \n",
        "\n",
        "One very positive use of Twitter can be to monitor for grave problems and alert authorities. However, many of these could be users exaggerating every day issues or simply describing negative events - just not something worth alerting the national guard about.\n",
        "\n",
        "This project will cover work on an open dataset that helps with this issue: from data exploration, to its cleaning up and pre-processing, so that it can be ingested by AWS SageMaker's BlazingText to train a Word2Vec model.\n",
        "\n"
      ]
    },
    {
      "cell_type": "markdown",
      "metadata": {
        "id": "IcDzb7leHdQU",
        "colab_type": "text"
      },
      "source": [
        "## Credits\n",
        "\n",
        "Much of the work here, from analysis techniques to the training, has been learnt and shamelessly plucked from the following (extremely helpful!) sources:\n",
        "* [NLP with Disaster Tweets: EDA+NLP+XGBoost](https://www.kaggle.com/akihironomura/nlp-with-disaster-tweets-eda-nlp-xgboost)\n",
        "* [Basic EDA, Cleaning and GloVe](https://www.kaggle.com/shahules/basic-eda-cleaning-and-glove)\n",
        "* [Blazingtext Text Classification Dbpedia](https://github.com/awslabs/amazon-sagemaker-examples/blob/master/introduction_to_amazon_algorithms/blazingtext_text_classification_dbpedia/blazingtext_text_classification_dbpedia.ipynb)\n",
        "\n",
        "Thank you for your help!\n"
      ]
    },
    {
      "cell_type": "markdown",
      "metadata": {
        "id": "EDLRURBPIaQ_",
        "colab_type": "text"
      },
      "source": [
        "## Data analysis\n",
        "\n",
        "Although one could potentially attempt to collect a custom dataset for this problem, there already is an open dataset, called \"Disaster Tweets\", which can serve as starting point.\n",
        "\n",
        "The dataset can be obtained here(https://www.kaggle.com/c/nlp-getting-started).\n",
        "\n",
        "From the get-go, we can see using this dataset has two very immediate drawbacks: \n",
        "\n",
        "1. it will be somewhat generic, that is, if our usecase were specific to some problem (e.g. bomb threats), this dataset would be too generic. \n",
        "2. the dataset is not particularly big.\n",
        "\n",
        "\n",
        "Having said this, there are other major advantages of using the dataset:\n",
        "1. techniques applied here can easily be translated to related tasks.\n",
        "2. It is big enough that results can be assumed to represent what those same techniques could achieve on a more general setting.\n",
        "3. The dataset is in a single language (English), which means we can use one language model, one set of stop words, etc.\n"
      ]
    },
    {
      "cell_type": "code",
      "metadata": {
        "id": "bAgoF-aUIiwe",
        "colab_type": "code",
        "colab": {}
      },
      "source": [
        "import string\n",
        "import numpy as np\n",
        "import pandas as pd\n",
        "pd.plotting.register_matplotlib_converters()\n",
        "import matplotlib.pyplot as plt\n",
        "%matplotlib inline\n",
        "import seaborn as sns"
      ],
      "execution_count": 70,
      "outputs": []
    },
    {
      "cell_type": "code",
      "metadata": {
        "id": "NHjkpVQ4I_UM",
        "colab_type": "code",
        "colab": {
          "base_uri": "https://localhost:8080/",
          "height": 0
        },
        "outputId": "5eb14cc3-9ce8-4fc5-dd2b-c5db99bd59db"
      },
      "source": [
        "df_train = pd.read_csv('train.csv', dtype={'id': np.int16, 'target': np.int8})\n",
        "df_test = pd.read_csv('test.csv', dtype={'id': np.int16})\n",
        "\n",
        "print('Training Set Shape = {}'.format(df_train.shape))\n",
        "print('Training Set Memory Usage = {:.2f} MB'.format(df_train.memory_usage().sum() / 1024**2))\n",
        "print('Test Set Shape = {}'.format(df_test.shape))\n",
        "print('Test Set Memory Usage = {:.2f} MB'.format(df_test.memory_usage().sum() / 1024**2))\n",
        "\n"
      ],
      "execution_count": 71,
      "outputs": [
        {
          "output_type": "stream",
          "text": [
            "Training Set Shape = (7613, 5)\n",
            "Training Set Memory Usage = 0.20 MB\n",
            "Test Set Shape = (3263, 4)\n",
            "Test Set Memory Usage = 0.08 MB\n"
          ],
          "name": "stdout"
        }
      ]
    },
    {
      "cell_type": "markdown",
      "metadata": {
        "id": "np7M1tpGJxqG",
        "colab_type": "text"
      },
      "source": [
        "As mentioned, only roughly 7600 samples in the training dataset. Each has 5 features:"
      ]
    },
    {
      "cell_type": "code",
      "metadata": {
        "id": "DgxXJd4SKiGe",
        "colab_type": "code",
        "colab": {
          "base_uri": "https://localhost:8080/",
          "height": 0
        },
        "outputId": "24006d56-48e3-4a90-99f8-e3dae17bee6a"
      },
      "source": [
        "df_train.head()\n"
      ],
      "execution_count": 72,
      "outputs": [
        {
          "output_type": "execute_result",
          "data": {
            "text/html": [
              "<div>\n",
              "<style scoped>\n",
              "    .dataframe tbody tr th:only-of-type {\n",
              "        vertical-align: middle;\n",
              "    }\n",
              "\n",
              "    .dataframe tbody tr th {\n",
              "        vertical-align: top;\n",
              "    }\n",
              "\n",
              "    .dataframe thead th {\n",
              "        text-align: right;\n",
              "    }\n",
              "</style>\n",
              "<table border=\"1\" class=\"dataframe\">\n",
              "  <thead>\n",
              "    <tr style=\"text-align: right;\">\n",
              "      <th></th>\n",
              "      <th>id</th>\n",
              "      <th>keyword</th>\n",
              "      <th>location</th>\n",
              "      <th>text</th>\n",
              "      <th>target</th>\n",
              "    </tr>\n",
              "  </thead>\n",
              "  <tbody>\n",
              "    <tr>\n",
              "      <th>0</th>\n",
              "      <td>1</td>\n",
              "      <td>NaN</td>\n",
              "      <td>NaN</td>\n",
              "      <td>Our Deeds are the Reason of this #earthquake M...</td>\n",
              "      <td>1</td>\n",
              "    </tr>\n",
              "    <tr>\n",
              "      <th>1</th>\n",
              "      <td>4</td>\n",
              "      <td>NaN</td>\n",
              "      <td>NaN</td>\n",
              "      <td>Forest fire near La Ronge Sask. Canada</td>\n",
              "      <td>1</td>\n",
              "    </tr>\n",
              "    <tr>\n",
              "      <th>2</th>\n",
              "      <td>5</td>\n",
              "      <td>NaN</td>\n",
              "      <td>NaN</td>\n",
              "      <td>All residents asked to 'shelter in place' are ...</td>\n",
              "      <td>1</td>\n",
              "    </tr>\n",
              "    <tr>\n",
              "      <th>3</th>\n",
              "      <td>6</td>\n",
              "      <td>NaN</td>\n",
              "      <td>NaN</td>\n",
              "      <td>13,000 people receive #wildfires evacuation or...</td>\n",
              "      <td>1</td>\n",
              "    </tr>\n",
              "    <tr>\n",
              "      <th>4</th>\n",
              "      <td>7</td>\n",
              "      <td>NaN</td>\n",
              "      <td>NaN</td>\n",
              "      <td>Just got sent this photo from Ruby #Alaska as ...</td>\n",
              "      <td>1</td>\n",
              "    </tr>\n",
              "  </tbody>\n",
              "</table>\n",
              "</div>"
            ],
            "text/plain": [
              "   id keyword  ...                                               text target\n",
              "0   1     NaN  ...  Our Deeds are the Reason of this #earthquake M...      1\n",
              "1   4     NaN  ...             Forest fire near La Ronge Sask. Canada      1\n",
              "2   5     NaN  ...  All residents asked to 'shelter in place' are ...      1\n",
              "3   6     NaN  ...  13,000 people receive #wildfires evacuation or...      1\n",
              "4   7     NaN  ...  Just got sent this photo from Ruby #Alaska as ...      1\n",
              "\n",
              "[5 rows x 5 columns]"
            ]
          },
          "metadata": {
            "tags": []
          },
          "execution_count": 72
        }
      ]
    },
    {
      "cell_type": "markdown",
      "metadata": {
        "id": "9adalaykKqHu",
        "colab_type": "text"
      },
      "source": [
        "#### Columns\n",
        "\n",
        "id - a unique identifier for each tweet\n",
        "\n",
        "text - the text of the tweet\n",
        "\n",
        "location - the location the tweet was sent from (may be blank)\n",
        "\n",
        "keyword - a particular keyword from the tweet (may be blank)\n",
        "\n",
        "target - in train.csv only, this denotes whether a tweet is about a real disaster (1) or not (0)\n",
        "\n",
        "\n"
      ]
    },
    {
      "cell_type": "markdown",
      "metadata": {
        "id": "8QBvM7QcMLEc",
        "colab_type": "text"
      },
      "source": [
        "Now the test dataset does not have the target, which makes sense. This is important if we plan to compare algorithms: the validation set will have to come as a split of the training set.\n",
        "\n"
      ]
    },
    {
      "cell_type": "code",
      "metadata": {
        "id": "cGRlD64NMOVc",
        "colab_type": "code",
        "colab": {
          "base_uri": "https://localhost:8080/",
          "height": 0
        },
        "outputId": "889222df-9577-41a8-dfbc-29498907de01"
      },
      "source": [
        "df_test.head()"
      ],
      "execution_count": 73,
      "outputs": [
        {
          "output_type": "execute_result",
          "data": {
            "text/html": [
              "<div>\n",
              "<style scoped>\n",
              "    .dataframe tbody tr th:only-of-type {\n",
              "        vertical-align: middle;\n",
              "    }\n",
              "\n",
              "    .dataframe tbody tr th {\n",
              "        vertical-align: top;\n",
              "    }\n",
              "\n",
              "    .dataframe thead th {\n",
              "        text-align: right;\n",
              "    }\n",
              "</style>\n",
              "<table border=\"1\" class=\"dataframe\">\n",
              "  <thead>\n",
              "    <tr style=\"text-align: right;\">\n",
              "      <th></th>\n",
              "      <th>id</th>\n",
              "      <th>keyword</th>\n",
              "      <th>location</th>\n",
              "      <th>text</th>\n",
              "    </tr>\n",
              "  </thead>\n",
              "  <tbody>\n",
              "    <tr>\n",
              "      <th>0</th>\n",
              "      <td>0</td>\n",
              "      <td>NaN</td>\n",
              "      <td>NaN</td>\n",
              "      <td>Just happened a terrible car crash</td>\n",
              "    </tr>\n",
              "    <tr>\n",
              "      <th>1</th>\n",
              "      <td>2</td>\n",
              "      <td>NaN</td>\n",
              "      <td>NaN</td>\n",
              "      <td>Heard about #earthquake is different cities, s...</td>\n",
              "    </tr>\n",
              "    <tr>\n",
              "      <th>2</th>\n",
              "      <td>3</td>\n",
              "      <td>NaN</td>\n",
              "      <td>NaN</td>\n",
              "      <td>there is a forest fire at spot pond, geese are...</td>\n",
              "    </tr>\n",
              "    <tr>\n",
              "      <th>3</th>\n",
              "      <td>9</td>\n",
              "      <td>NaN</td>\n",
              "      <td>NaN</td>\n",
              "      <td>Apocalypse lighting. #Spokane #wildfires</td>\n",
              "    </tr>\n",
              "    <tr>\n",
              "      <th>4</th>\n",
              "      <td>11</td>\n",
              "      <td>NaN</td>\n",
              "      <td>NaN</td>\n",
              "      <td>Typhoon Soudelor kills 28 in China and Taiwan</td>\n",
              "    </tr>\n",
              "  </tbody>\n",
              "</table>\n",
              "</div>"
            ],
            "text/plain": [
              "   id keyword location                                               text\n",
              "0   0     NaN      NaN                 Just happened a terrible car crash\n",
              "1   2     NaN      NaN  Heard about #earthquake is different cities, s...\n",
              "2   3     NaN      NaN  there is a forest fire at spot pond, geese are...\n",
              "3   9     NaN      NaN           Apocalypse lighting. #Spokane #wildfires\n",
              "4  11     NaN      NaN      Typhoon Soudelor kills 28 in China and Taiwan"
            ]
          },
          "metadata": {
            "tags": []
          },
          "execution_count": 73
        }
      ]
    },
    {
      "cell_type": "markdown",
      "metadata": {
        "id": "Nx_TVLYAMOm0",
        "colab_type": "text"
      },
      "source": [
        "Let's see how many of the entries have empty locations or keywords."
      ]
    },
    {
      "cell_type": "code",
      "metadata": {
        "id": "sA4KaoaMLpNn",
        "colab_type": "code",
        "colab": {
          "base_uri": "https://localhost:8080/",
          "height": 0
        },
        "outputId": "bc26c4f3-19be-4677-f8fa-8b8ec4ca10a6"
      },
      "source": [
        "df_train[\"location\"].isnull().value_counts()/df_train.shape[0]"
      ],
      "execution_count": 74,
      "outputs": [
        {
          "output_type": "execute_result",
          "data": {
            "text/plain": [
              "False    0.66728\n",
              "True     0.33272\n",
              "Name: location, dtype: float64"
            ]
          },
          "metadata": {
            "tags": []
          },
          "execution_count": 74
        }
      ]
    },
    {
      "cell_type": "code",
      "metadata": {
        "id": "n5n0oryiMEo_",
        "colab_type": "code",
        "colab": {
          "base_uri": "https://localhost:8080/",
          "height": 0
        },
        "outputId": "4738a0e5-d0e0-4b57-f111-0a71ecd110ce"
      },
      "source": [
        "df_train[\"keyword\"].isnull().value_counts()/df_train.shape[0]"
      ],
      "execution_count": 75,
      "outputs": [
        {
          "output_type": "execute_result",
          "data": {
            "text/plain": [
              "False    0.991987\n",
              "True     0.008013\n",
              "Name: keyword, dtype: float64"
            ]
          },
          "metadata": {
            "tags": []
          },
          "execution_count": 75
        }
      ]
    },
    {
      "cell_type": "markdown",
      "metadata": {
        "id": "qzsuN_6aOpMT",
        "colab_type": "text"
      },
      "source": [
        "Are the critial data (text or target) missing?\n"
      ]
    },
    {
      "cell_type": "code",
      "metadata": {
        "id": "Q8l-nbekOofk",
        "colab_type": "code",
        "colab": {
          "base_uri": "https://localhost:8080/",
          "height": 0
        },
        "outputId": "689117fd-6a0d-4885-a499-15ecbcc5ba26"
      },
      "source": [
        "df_train['text'].isnull().value_counts() / df_train.shape[0]"
      ],
      "execution_count": 76,
      "outputs": [
        {
          "output_type": "execute_result",
          "data": {
            "text/plain": [
              "False    1.0\n",
              "Name: text, dtype: float64"
            ]
          },
          "metadata": {
            "tags": []
          },
          "execution_count": 76
        }
      ]
    },
    {
      "cell_type": "code",
      "metadata": {
        "id": "bGV_XXgWOz-b",
        "colab_type": "code",
        "colab": {
          "base_uri": "https://localhost:8080/",
          "height": 0
        },
        "outputId": "efdc5706-3d39-4603-9fa4-a89ca3584ea8"
      },
      "source": [
        "df_train['target'].isnull().value_counts() / df_train.shape[0]"
      ],
      "execution_count": 77,
      "outputs": [
        {
          "output_type": "execute_result",
          "data": {
            "text/plain": [
              "False    1.0\n",
              "Name: target, dtype: float64"
            ]
          },
          "metadata": {
            "tags": []
          },
          "execution_count": 77
        }
      ]
    },
    {
      "cell_type": "markdown",
      "metadata": {
        "id": "FYErwG9cNB5M",
        "colab_type": "text"
      },
      "source": [
        "What about in test?\n"
      ]
    },
    {
      "cell_type": "code",
      "metadata": {
        "id": "18HW_bzdO6Vr",
        "colab_type": "code",
        "colab": {
          "base_uri": "https://localhost:8080/",
          "height": 0
        },
        "outputId": "186bb043-8113-4861-ec0e-547db70dde40"
      },
      "source": [
        "df_test['text'].isnull().value_counts() / df_test.shape[0]"
      ],
      "execution_count": 78,
      "outputs": [
        {
          "output_type": "execute_result",
          "data": {
            "text/plain": [
              "False    1.0\n",
              "Name: text, dtype: float64"
            ]
          },
          "metadata": {
            "tags": []
          },
          "execution_count": 78
        }
      ]
    },
    {
      "cell_type": "code",
      "metadata": {
        "id": "0VIuv9EKO-IL",
        "colab_type": "code",
        "colab": {
          "base_uri": "https://localhost:8080/",
          "height": 0
        },
        "outputId": "b0c80e5e-0365-4af4-bfa0-2c425666b202"
      },
      "source": [
        "df_test['keyword'].isnull().value_counts() / df_test.shape[0]"
      ],
      "execution_count": 79,
      "outputs": [
        {
          "output_type": "execute_result",
          "data": {
            "text/plain": [
              "False    0.992032\n",
              "True     0.007968\n",
              "Name: keyword, dtype: float64"
            ]
          },
          "metadata": {
            "tags": []
          },
          "execution_count": 79
        }
      ]
    },
    {
      "cell_type": "markdown",
      "metadata": {
        "id": "thpfvnKXH6H1",
        "colab_type": "text"
      },
      "source": [
        "## Feature Engineering\n",
        "\n",
        "### Dropping features?\n",
        "\n",
        "From what we saw above, most of the entries do have a keyword. However at inference time we may not always have this information, even if it's present in the test set: do Twitter users typically provide this? We'll not rely on it.\n",
        "\n",
        "As for location, we could explore using it as follows:\n",
        "1. First do a baseline with only the raw tweets, without location.\n",
        "2. Do a separate dataset where we keep the locaiton information. BlazingText would not be able to ingest this, but we could train Word2Vec separately and then use other algorithms, such as XGBoost for the classification.\n",
        "\n",
        "For now, we will proceed with the first approach (without location).\n",
        "\n",
        "We will do three things to the training data, before training on it:\n",
        "\n",
        "* Clean up items like mentiones, stop words, emojis and other symbols that could make a model choke.\n",
        "* Remove the header from the input file.\n",
        "* Keep only the label and the clean text, as for now we will do nothing with location and/or given keyword. We will let the model(s) learn the features from the text itself.\n",
        "\n",
        "### Data balance?\n",
        "\n",
        "It's important to see how balanced our data is:\n"
      ]
    },
    {
      "cell_type": "code",
      "metadata": {
        "id": "3Ra3wY0IOdqs",
        "colab_type": "code",
        "colab": {
          "base_uri": "https://localhost:8080/",
          "height": 0
        },
        "outputId": "9118c054-da05-4c59-e347-badd5fd86c1a"
      },
      "source": [
        "# Target Distribution (0 or 1)\n",
        "dist_class = df_train['target'].value_counts()\n",
        "labels = ['Non-disaster tweet', 'Disaster tweet']\n",
        "\n",
        "fig, (ax1, ax2) = plt.subplots(1, 2, figsize=(12,6))\n",
        "\n",
        "sns.barplot(x=dist_class.index, y=dist_class, ax=ax1).set_title(\"Target Count\")\n",
        "\n",
        "ax2.pie(dist_class,\n",
        "        labels=labels,\n",
        "        counterclock=False,\n",
        "        startangle=90,\n",
        "        autopct='%1.1f%%',\n",
        "        pctdistance=0.7)\n",
        "plt.title(\"Target Frequency Proportion\")\n",
        "plt.show"
      ],
      "execution_count": 80,
      "outputs": [
        {
          "output_type": "execute_result",
          "data": {
            "text/plain": [
              "<function matplotlib.pyplot.show>"
            ]
          },
          "metadata": {
            "tags": []
          },
          "execution_count": 80
        },
        {
          "output_type": "display_data",
          "data": {
            "image/png": "[encoded data removed]",
            "text/plain": [
              "<Figure size 864x432 with 2 Axes>"
            ]
          },
          "metadata": {
            "tags": [],
            "needs_background": "light"
          }
        }
      ]
    },
    {
      "cell_type": "markdown",
      "metadata": {
        "id": "vzjS-ykhQBc7",
        "colab_type": "text"
      },
      "source": [
        "This is fairly balanced, so we can afford to not try to correct this. (We also don't know how this relates to a real world scenario: would a dataset more biased towards non-real disasters reflect reality better?\n",
        "\n",
        "To answer this we should either work with a dataset containing all sorts of tweets, without filtering for perceived disasters (fake or not). Otherwise, we could take a further step and deploy a trained model in the wild and see how it performs.\n",
        "\n",
        "For now, we'll accept the class distribution as it is and not worry about bias."
      ]
    },
    {
      "cell_type": "markdown",
      "metadata": {
        "id": "faGtD80uRHPE",
        "colab_type": "text"
      },
      "source": [
        "### Derived features?\n",
        "\n",
        "Could we use other features, like tweet length?\n",
        "\n"
      ]
    },
    {
      "cell_type": "code",
      "metadata": {
        "id": "nTYz_YI4QAnM",
        "colab_type": "code",
        "colab": {
          "base_uri": "https://localhost:8080/",
          "height": 0
        },
        "outputId": "8ca4c5ab-c3f1-4505-c9ee-12f4771a2721"
      },
      "source": [
        "disaster_tweet_length = df_train[df_train['target']==1]['text'].str.len()\n",
        "nondisaster_tweet_length = df_train[df_train['target']==0]['text'].str.len()\n",
        "\n",
        "fig, (ax1, ax2) = plt.subplots(1, 2, figsize=(12,6))\n",
        "\n",
        "ax1.hist(disaster_tweet_length, color='red')\n",
        "ax1.set_title(\"Disaster Tweets\")\n",
        "\n",
        "ax2.hist(nondisaster_tweet_length, color='green')\n",
        "ax2.set_title(\"Non-Disaster Tweets\")\n",
        "\n",
        "fig.suptitle(\"Characters in tweets\")\n",
        "plt.show()"
      ],
      "execution_count": 81,
      "outputs": [
        {
          "output_type": "display_data",
          "data": {
            "image/png": "[encoded data removed]",
            "text/plain": [
              "<Figure size 864x432 with 2 Axes>"
            ]
          },
          "metadata": {
            "tags": [],
            "needs_background": "light"
          }
        }
      ]
    },
    {
      "cell_type": "markdown",
      "metadata": {
        "id": "ACUsi3WFRqcR",
        "colab_type": "text"
      },
      "source": [
        "It looks like not in general. At best, we could only argue extremely long tweets tend not to be real disaster tweets, but it's a flimsy insight at best.\n",
        "\n",
        "So, to recap, let's stick to what BlazingText and Word2Vec can learn from the text itself."
      ]
    },
    {
      "cell_type": "markdown",
      "metadata": {
        "id": "EKS-qVAGRnQb",
        "colab_type": "text"
      },
      "source": [
        "### Data cleaning\n",
        "\n",
        "Let's focus on 4 specific text pests, specially in tweets: emojis, URLs, other html and punctuation.\n",
        "\n",
        "Enter NLTK for our text pre-processing needs."
      ]
    },
    {
      "cell_type": "code",
      "metadata": {
        "id": "AQ368VgUUSUg",
        "colab_type": "code",
        "colab": {
          "base_uri": "https://localhost:8080/",
          "height": 0
        },
        "outputId": "95f5bcd3-f83c-4e32-b3d6-db8e3e796a5a"
      },
      "source": [
        "import re\n",
        "import nltk\n",
        "from nltk.corpus import stopwords\n",
        "nltk.download('stopwords')\n",
        "\n",
        "from nltk.stem.porter import *\n",
        "stemmer = PorterStemmer()"
      ],
      "execution_count": 82,
      "outputs": [
        {
          "output_type": "stream",
          "text": [
            "[nltk_data] Downloading package stopwords to /root/nltk_data...\n",
            "[nltk_data]   Package stopwords is already up-to-date!\n"
          ],
          "name": "stdout"
        }
      ]
    },
    {
      "cell_type": "code",
      "metadata": {
        "id": "cJbxsXYNSEos",
        "colab_type": "code",
        "colab": {}
      },
      "source": [
        "def remove_url(text):\n",
        "    url = re.compile(r'https?://\\S+|www\\.\\S+')\n",
        "    return url.sub(r' ',text)\n",
        "\n",
        "def remove_html(text):\n",
        "    html = re.compile(r'<.*?>')\n",
        "    return html.sub(r' ',text)\n",
        "\n",
        "def remove_emoji(text):\n",
        "    emoji_pattern = re.compile(\"[\"\n",
        "                           u\"\\U0001F600-\\U0001F64F\"  # emoticons\n",
        "                           u\"\\U0001F300-\\U0001F5FF\"  # symbols & pictographs\n",
        "                           u\"\\U0001F680-\\U0001F6FF\"  # transport & map symbols\n",
        "                           u\"\\U0001F1E0-\\U0001F1FF\"  # flags (iOS)\n",
        "                           u\"\\U00002702-\\U000027B0\"\n",
        "                           u\"\\U000024C2-\\U0001F251\"\n",
        "                           u\"[^\\x00-\\x7f]\"\n",
        "                           \"]+\", flags=re.UNICODE)\n",
        "    clean = emoji_pattern.sub(r' ', text)\n",
        "    minus_nonascii = re.sub(r'[^\\x00-\\x7f]',r' ',clean) # remove non-ascii    \n",
        "    return minus_nonascii\n",
        "\n",
        "def remove_punc(text):\n",
        "    table = str.maketrans('','',string.punctuation)\n",
        "    return text.translate(table)\n",
        "\n",
        "\n",
        "\n"
      ],
      "execution_count": 83,
      "outputs": []
    },
    {
      "cell_type": "markdown",
      "metadata": {
        "id": "pZ7vcVb2UwbA",
        "colab_type": "text"
      },
      "source": [
        "It could be debatable what role online slang plays, but the safest route is to remove it:"
      ]
    },
    {
      "cell_type": "code",
      "metadata": {
        "id": "8WN5IYO_Uv4x",
        "colab_type": "code",
        "colab": {}
      },
      "source": [
        "# Source: https://github.com/rishabhverma17/sms_slang_translator/blob/master/slang.txt\n",
        "slang_abbrev_dict = {\n",
        "    'AFAIK': 'As Far As I Know',\n",
        "    'AFK': 'Away From Keyboard',\n",
        "    'ASAP': 'As Soon As Possible',\n",
        "    'ATK': 'At The Keyboard',\n",
        "    'ATM': 'At The Moment',\n",
        "    'A3': 'Anytime, Anywhere, Anyplace',\n",
        "    'BAK': 'Back At Keyboard',\n",
        "    'BBL': 'Be Back Later',\n",
        "    'BBS': 'Be Back Soon',\n",
        "    'BFN': 'Bye For Now',\n",
        "    'B4N': 'Bye For Now',\n",
        "    'BRB': 'Be Right Back',\n",
        "    'BRT': 'Be Right There',\n",
        "    'BTW': 'By The Way',\n",
        "    'B4': 'Before',\n",
        "    'B4N': 'Bye For Now',\n",
        "    'CU': 'See You',\n",
        "    'CUL8R': 'See You Later',\n",
        "    'CYA': 'See You',\n",
        "    'FAQ': 'Frequently Asked Questions',\n",
        "    'FC': 'Fingers Crossed',\n",
        "    'FWIW': 'For What It\\'s Worth',\n",
        "    'FYI': 'For Your Information',\n",
        "    'GAL': 'Get A Life',\n",
        "    'GG': 'Good Game',\n",
        "    'GN': 'Good Night',\n",
        "    'GMTA': 'Great Minds Think Alike',\n",
        "    'GR8': 'Great!',\n",
        "    'G9': 'Genius',\n",
        "    'IC': 'I See',\n",
        "    'ICQ': 'I Seek you',\n",
        "    'ILU': 'I Love You',\n",
        "    'IMHO': 'In My Humble Opinion',\n",
        "    'IMO': 'In My Opinion',\n",
        "    'IOW': 'In Other Words',\n",
        "    'IRL': 'In Real Life',\n",
        "    'KISS': 'Keep It Simple, Stupid',\n",
        "    'LDR': 'Long Distance Relationship',\n",
        "    'LMAO': 'Laugh My Ass Off',\n",
        "    'LOL': 'Laughing Out Loud',\n",
        "    'LTNS': 'Long Time No See',\n",
        "    'L8R': 'Later',\n",
        "    'MTE': 'My Thoughts Exactly',\n",
        "    'M8': 'Mate',\n",
        "    'NRN': 'No Reply Necessary',\n",
        "    'OIC': 'Oh I See',\n",
        "    'OMG': 'Oh My God',\n",
        "    'PITA': 'Pain In The Ass',\n",
        "    'PRT': 'Party',\n",
        "    'PRW': 'Parents Are Watching',\n",
        "    'QPSA?': 'Que Pasa?',\n",
        "    'ROFL': 'Rolling On The Floor Laughing',\n",
        "    'ROFLOL': 'Rolling On The Floor Laughing Out Loud',\n",
        "    'ROTFLMAO': 'Rolling On The Floor Laughing My Ass Off',\n",
        "    'SK8': 'Skate',\n",
        "    'STATS': 'Your sex and age',\n",
        "    'ASL': 'Age, Sex, Location',\n",
        "    'THX': 'Thank You',\n",
        "    'TTFN': 'Ta-Ta For Now!',\n",
        "    'TTYL': 'Talk To You Later',\n",
        "    'U': 'You',\n",
        "    'U2': 'You Too',\n",
        "    'U4E': 'Yours For Ever',\n",
        "    'WB': 'Welcome Back',\n",
        "    'WTF': 'What The Fuck',\n",
        "    'WTG': 'Way To Go!',\n",
        "    'WUF': 'Where Are You From?',\n",
        "    'W8': 'Wait',\n",
        "    '7K': 'Sick:-D Laugher'\n",
        "}\n",
        "\n",
        "def unslang(text):\n",
        "    if text.upper() in slang_abbrev_dict.keys():\n",
        "        return slang_abbrev_dict[text.upper()]\n",
        "    else:\n",
        "        return text"
      ],
      "execution_count": 84,
      "outputs": []
    },
    {
      "cell_type": "markdown",
      "metadata": {
        "id": "IfpNBOhuTK4q",
        "colab_type": "text"
      },
      "source": [
        "Additionally, we still will have to tokenize, stem and remove stopwords."
      ]
    },
    {
      "cell_type": "code",
      "metadata": {
        "id": "cLsvi64fTNmg",
        "colab_type": "code",
        "colab": {}
      },
      "source": [
        "def tokenization(text):\n",
        "    text = re.split('\\W+', text)\n",
        "    return text\n",
        "\n",
        "stopword = nltk.corpus.stopwords.words('english')\n",
        "def remove_stopwords(text):\n",
        "    text = [word for word in text if word not in stopword]\n",
        "    return text\n",
        "\n",
        "def stemming(text):\n",
        "    text = [stemmer.stem(word) for word in text]\n",
        "    return text\n",
        "    "
      ],
      "execution_count": 85,
      "outputs": []
    },
    {
      "cell_type": "markdown",
      "metadata": {
        "id": "aIWmbGc0UFiY",
        "colab_type": "text"
      },
      "source": [
        "Now we can apply all of the cleaning tools above to each entry:"
      ]
    },
    {
      "cell_type": "code",
      "metadata": {
        "id": "ACmlaJOUUEWw",
        "colab_type": "code",
        "colab": {}
      },
      "source": [
        "df_train['cleaned_text'] = df_train['text'].apply(lambda x : remove_url(x))\n",
        "df_train['cleaned_text'] = df_train['cleaned_text'].apply(lambda x : remove_html(x))\n",
        "df_train['cleaned_text'] = df_train['cleaned_text'].apply(lambda x : remove_emoji(x))\n",
        "df_train['cleaned_text'] = df_train['cleaned_text'].apply(lambda x : unslang(x))\n",
        "df_train['cleaned_text'] = df_train['cleaned_text'].apply(lambda x : remove_punc(x))\n",
        "df_train['cleaned_text'] = df_train['cleaned_text'].apply(lambda x : tokenization(x.lower()))\n",
        "df_train['cleaned_text'] = df_train['cleaned_text'].apply(lambda x : remove_stopwords(x))\n",
        "df_train['cleaned_text'] = df_train['cleaned_text'].apply(lambda x : stemming(x))\n",
        "df_train['cleaned_text'] = df_train['cleaned_text'].apply(lambda x : ' '.join(x))"
      ],
      "execution_count": 86,
      "outputs": []
    },
    {
      "cell_type": "markdown",
      "metadata": {
        "id": "PVWYwJ_hVASg",
        "colab_type": "text"
      },
      "source": [
        "We have now added the clean text as a separate feature, which is what we will truly train Word2Vec on. Notice, however, that this in no way affects the class distribution, as no entries have been removed."
      ]
    },
    {
      "cell_type": "code",
      "metadata": {
        "id": "1gKQBThvVIKL",
        "colab_type": "code",
        "colab": {
          "base_uri": "https://localhost:8080/",
          "height": 0
        },
        "outputId": "a4159e95-4ebb-413f-cf1c-71cfc5fe14fc"
      },
      "source": [
        "clean = df_train[[\"target\", \"cleaned_text\"]]\n",
        "clean.head()"
      ],
      "execution_count": 87,
      "outputs": [
        {
          "output_type": "execute_result",
          "data": {
            "text/html": [
              "<div>\n",
              "<style scoped>\n",
              "    .dataframe tbody tr th:only-of-type {\n",
              "        vertical-align: middle;\n",
              "    }\n",
              "\n",
              "    .dataframe tbody tr th {\n",
              "        vertical-align: top;\n",
              "    }\n",
              "\n",
              "    .dataframe thead th {\n",
              "        text-align: right;\n",
              "    }\n",
              "</style>\n",
              "<table border=\"1\" class=\"dataframe\">\n",
              "  <thead>\n",
              "    <tr style=\"text-align: right;\">\n",
              "      <th></th>\n",
              "      <th>target</th>\n",
              "      <th>cleaned_text</th>\n",
              "    </tr>\n",
              "  </thead>\n",
              "  <tbody>\n",
              "    <tr>\n",
              "      <th>0</th>\n",
              "      <td>1</td>\n",
              "      <td>deed reason earthquak may allah forgiv us</td>\n",
              "    </tr>\n",
              "    <tr>\n",
              "      <th>1</th>\n",
              "      <td>1</td>\n",
              "      <td>forest fire near la rong sask canada</td>\n",
              "    </tr>\n",
              "    <tr>\n",
              "      <th>2</th>\n",
              "      <td>1</td>\n",
              "      <td>resid ask shelter place notifi offic evacu she...</td>\n",
              "    </tr>\n",
              "    <tr>\n",
              "      <th>3</th>\n",
              "      <td>1</td>\n",
              "      <td>13000 peopl receiv wildfir evacu order califor...</td>\n",
              "    </tr>\n",
              "    <tr>\n",
              "      <th>4</th>\n",
              "      <td>1</td>\n",
              "      <td>got sent photo rubi alaska smoke wildfir pour ...</td>\n",
              "    </tr>\n",
              "  </tbody>\n",
              "</table>\n",
              "</div>"
            ],
            "text/plain": [
              "   target                                       cleaned_text\n",
              "0       1          deed reason earthquak may allah forgiv us\n",
              "1       1               forest fire near la rong sask canada\n",
              "2       1  resid ask shelter place notifi offic evacu she...\n",
              "3       1  13000 peopl receiv wildfir evacu order califor...\n",
              "4       1  got sent photo rubi alaska smoke wildfir pour ..."
            ]
          },
          "metadata": {
            "tags": []
          },
          "execution_count": 87
        }
      ]
    },
    {
      "cell_type": "code",
      "metadata": {
        "id": "tcxAoshTVVA4",
        "colab_type": "code",
        "colab": {
          "base_uri": "https://localhost:8080/",
          "height": 0
        },
        "outputId": "b3ad61f7-623a-473a-a8e5-7c1592c67635"
      },
      "source": [
        "print(clean.info())\n",
        "clean['target'].isnull().value_counts() / df_train.shape[0]"
      ],
      "execution_count": 88,
      "outputs": [
        {
          "output_type": "stream",
          "text": [
            "<class 'pandas.core.frame.DataFrame'>\n",
            "RangeIndex: 7613 entries, 0 to 7612\n",
            "Data columns (total 2 columns):\n",
            " #   Column        Non-Null Count  Dtype \n",
            "---  ------        --------------  ----- \n",
            " 0   target        7613 non-null   int8  \n",
            " 1   cleaned_text  7613 non-null   object\n",
            "dtypes: int8(1), object(1)\n",
            "memory usage: 67.0+ KB\n",
            "None\n"
          ],
          "name": "stdout"
        },
        {
          "output_type": "execute_result",
          "data": {
            "text/plain": [
              "False    1.0\n",
              "Name: target, dtype: float64"
            ]
          },
          "metadata": {
            "tags": []
          },
          "execution_count": 88
        }
      ]
    },
    {
      "cell_type": "markdown",
      "metadata": {
        "id": "tHNR8tUoV-QK",
        "colab_type": "text"
      },
      "source": [
        "## Data pre-processing for AWS SageMaker BlazingText\n",
        "\n",
        "Since we won't be able to use the (unlabelled) test set for validation, let's first split the current training set into train and validation.\n",
        "\n"
      ]
    },
    {
      "cell_type": "code",
      "metadata": {
        "id": "G23C_1-MWgqR",
        "colab_type": "code",
        "colab": {
          "base_uri": "https://localhost:8080/",
          "height": 51
        },
        "outputId": "b41393ab-0d1d-4002-90ae-abe2fc07f6be"
      },
      "source": [
        "from sklearn.model_selection import train_test_split\n",
        "\n",
        "train, val = train_test_split(clean, test_size=0.2, random_state=42)\n",
        "\n",
        "print(f\"Final training set: {train.shape}\")\n",
        "print(f\"Final validation set: {val.shape}\")\n"
      ],
      "execution_count": 89,
      "outputs": [
        {
          "output_type": "stream",
          "text": [
            "Final training set: (6090, 2)\n",
            "Final validation set: (1523, 2)\n"
          ],
          "name": "stdout"
        }
      ]
    },
    {
      "cell_type": "markdown",
      "metadata": {
        "id": "WjlLMyiLYGrY",
        "colab_type": "text"
      },
      "source": [
        "Let's freeze this dataset now, since it's what we will be using for all experiments from now on."
      ]
    },
    {
      "cell_type": "code",
      "metadata": {
        "id": "4LT4V1W6YN9v",
        "colab_type": "code",
        "colab": {}
      },
      "source": [
        "train.to_csv(\"split_train.csv\", index=False)\n",
        "val.to_csv(\"split_val.csv\", index=False)"
      ],
      "execution_count": 90,
      "outputs": []
    },
    {
      "cell_type": "markdown",
      "metadata": {
        "id": "OA6XIqCyXUGi",
        "colab_type": "text"
      },
      "source": [
        "Next, we'll have to follow the format described [in the AWS documentation](https://docs.aws.amazon.com/sagemaker/latest/dg/blazingtext.html#bt-inputoutput): one text entry per line, with two elements: the (prefixed) label and the clean text, separated by a space."
      ]
    },
    {
      "cell_type": "code",
      "metadata": {
        "id": "TZz-kRdljbHU",
        "colab_type": "code",
        "colab": {}
      },
      "source": [
        "from random import shuffle\n",
        "import multiprocessing\n",
        "from multiprocessing import Pool\n",
        "import csv\n",
        "import re"
      ],
      "execution_count": 91,
      "outputs": []
    },
    {
      "cell_type": "code",
      "metadata": {
        "id": "fUn-gfZXpfJe",
        "colab_type": "code",
        "colab": {}
      },
      "source": [
        "def transform_instance(row):\n",
        "    cur_row = []\n",
        "    #AWS doc states we need to Prefix the label with \"__label__\"\n",
        "    cur_row = f\"__label__{row[0]} {row[1]}\"\n",
        "    return cur_row"
      ],
      "execution_count": 92,
      "outputs": []
    },
    {
      "cell_type": "code",
      "metadata": {
        "id": "84NzhogZpjXH",
        "colab_type": "code",
        "colab": {}
      },
      "source": [
        "def preprocess(input_file, output_file, keep=1):\n",
        "    all_rows = []\n",
        "    with open(input_file, 'r') as csvinfile:\n",
        "        csv_reader = csv.reader(csvinfile, delimiter=',')\n",
        "        next(csv_reader)\n",
        "        for i,row in enumerate(csv_reader):\n",
        "            all_rows.append(row)\n",
        "\n",
        "    shuffle(all_rows)\n",
        "    all_rows = all_rows[:int(keep*len(all_rows))]\n",
        "    pool = Pool(processes=multiprocessing.cpu_count())\n",
        "    transformed_rows = pool.map(transform_instance, all_rows)\n",
        "    pool.close() \n",
        "    pool.join()\n",
        "    print(transformed_rows[100:150])\n",
        "    \n",
        "    with open(output_file, 'w') as outfile:\n",
        "      for r in transformed_rows:\n",
        "        outfile.writelines(f\"{r}\\n\")\n"
      ],
      "execution_count": 101,
      "outputs": []
    },
    {
      "cell_type": "code",
      "metadata": {
        "id": "6QZyKZDMpl2s",
        "colab_type": "code",
        "colab": {
          "base_uri": "https://localhost:8080/",
          "height": 71
        },
        "outputId": "39773344-2af3-45a8-a936-8fdc1d414f36"
      },
      "source": [
        "preprocess('split_train.csv', 'tweets_train.txt')\n",
        "preprocess('split_val.csv', 'tweets_val.txt')\n"
      ],
      "execution_count": 102,
      "outputs": [
        {
          "output_type": "stream",
          "text": [
            "['__label__1 powerlin tram gc highway passeng evacu 9newsbrisban 9newsgoldcoast ', '__label__1 rescuer found bare aliv idea allerg ', '__label__0 eganator2000 arent mani obliter server alway like play', '__label__1 drunk meal 101 cook your total obliter ', '__label__1 unr continu sever thunderstorm warn wind 60 mph hail lt75 weston w custer fall river pennington till 715 p ', '__label__0 need life sin girlfriend ride till bloodi end girlfriend', '__label__0 well feel like im fire', '__label__1 sterlingscott red carpet fundrais oso mudslid ', '__label__1 cspanwj 90blksamp8wht collud 2 take wht f usagov auth hostageamp2 make look blk wbioterrorismampus lglorg idi id still', '__label__0 darrylb1979 yea heard thatnot come 2017 2019 vampiro bleed', '__label__0 wftv eyewit news fbi man stole us secret marri honduran minor sex ', '__label__1 wake kern counti eyewit news morn air right kbak cbs29 liveonkbak ', '__label__1 sadli tent fli surviv hailstorm tear roof water tent ', '__label__0 cycl fan feel sorri world athlet dope blight exacerb monetari reward lot soul search requir', '__label__0 bekahw thank sweat bullet everi time get blaze sun beat', '__label__0 inund westero storm sword book tape amp finish s5 game throne dont know stark greyjoy', '__label__0 hate talk otp grandma mean love death talk damn much ssshhheeesshh ', '__label__0 lara like sink teeth flesh claw arm ', '__label__0 dont dare play victim ive drown year', '__label__0 never understood guy want run burn build chase murder theyr fire', '__label__0 dakota skye get horni porn get juici pussi pound view download video', '__label__1 idfir cheroke road road 22 three sister wildfir two road close gener public ', '__label__0 ever sinc kelli burn keep dream insid burn build ', '__label__1 862015132 pm hazard high traffic area 5000 dean bridg rd ', '__label__0 length rescu cat need ', '__label__0 messag sent dont repli see saw messag least tell fuck someth', '__label__0 smoke eat sleep', '__label__0 pandemonium aba woman deliv babi without face photo ', '__label__0 ayekoradio play brasswork agenc crush shaken radio netlabel electronicmus listen ccmusic', '__label__0 diego costa need stop get injuri urg', '__label__1 way hiroshima today 70th anniversari deton atom bomb', '__label__1 californian bush fire 2015 ', '__label__1  19th day sinc 17jul2015 nigeria suicid bomb attack kill 64 peopl blame boko haram la timesa ', '__label__1 hey movietheatr mass murder wannab dont play shit 615', '__label__0 real shit damag bitch', '__label__1 bestnaijamad 16yr old pkk suicid bomber deton bomb bestnaijamad bestnaijamad bestnaijamad ', '__label__0 codythompson25 ty blew motor went flame got ok', '__label__0 one thing suregod promis israel annihil butth horror iran wnuke ', '__label__0 santa cruz head st elizabeth polic superintend lanford salmon r ', '__label__0 bowl got think damn ive blaze damn long', '__label__0 l b oklahoma thunder durant nba adida oklahoma citi thunder youth larg swingman jersey retail 75 nba durant ', '__label__0 five fatal flaw iran deal via youtub', '__label__1 3 year sikh templ massacr hateviol prevent key dviyer colorlin ', '__label__0 im dead two love 1 photo heart explod million piec brandonskei samsmithworld ', '__label__0 juliechen shouldnt gonna ruin game vanessa great player', '__label__0 cant watch home alon 2 without tell kid use casualti homealone2 film4', '__label__0 cortezera dead ass scream sign couldnt fuck believ', '__label__1 cdcwhistleblow 2 death measl complic 10 yr everyon loos shit 8 dead legionnair month amp cricket', '__label__0 localarsonist guess u say shit think', '__label__0 320 icemoon aftershoc djicemoon dubstep trapmus dnb edm danc ice ']\n",
            "['__label__1 railway minist prabhu call mp derail natur calam ', '__label__1 tweetlikeitsseptember11th2001 two build fire', '__label__0 fairfax investig firefight facebook post say polic put bodi bag washington post ', '__label__0 nowplay cliff richard could easili fall love amp shadow internet nieuw radio ', '__label__0 13 reason love women militari lulgzimbestpict ', '__label__0 forb china stock market crash gem rubbl china stock market crash summer ha ', '__label__0 poster ergo rotat cuff injuri recoveri kit super high convert rotat cuff inj ', '__label__1 tornado el nino may give canada twister season boost toronto ', '__label__1 halljh1720 sick crimin parent friend riot kill polic dont give damn offic', '__label__1 california man face manslaught charg sunday wrongway fatal crash ca ', '__label__1 even u weapon badg gonna put choppa ass', '__label__0 sayna angel arson', '__label__0  fredolsencruis pleas take faroeisland itinerari mass murder dolphin amp whale stop', '__label__1 back futur vanuatu cyclon pam encourag tradit way live ', '__label__0 world class tgirl ass 02 scene 4 pandemonium ', '__label__0 deadpool alreadi one favourit marvel charact know wear red suit bad guy cant tell he bleed', '__label__0 ted cruz fire back jeb amp bush lose republican like jeb amp mitt vide ', '__label__0 fear factori decemb done deal', '__label__1 incid injuryi495 inner loop exit 31 md 97georgia ave silver spring', '__label__1 suicid bomb daesh rightli despic suicid bomb ocalan marxism share valu ', '__label__1 bomb squad set deton backpack antioch tenn theater gunman offici say tennessean ', '__label__0 last tree cut last fish eaten last stream poison realiz ', '__label__1 evacu order lift town roosevelt wash though resid warn readi leav quickli ', '__label__1 1st august turkish jet bomb villag zergel qendil kill 8 civilian 15 other wound', '__label__0 mom didnt get home fast wish mom accid truck spilt mayonnais ', '__label__1 pic 16yr old pkk suicid bomber deton bomb turkey armi trench releas ', '__label__0 batfanuk enjoy show today great fun emerg non evacu interest great run', '__label__1 exclus 179 fatal involv onduti nypd cop 15 year 3 ', '__label__0 luzukokoti understand umntu wakho trust partner ok u know wont fear anyth', '__label__0 ctaztrophe31 everyth must ok she listen sandstorm', '__label__1 fake nank massacre4 eyewit english obama clinton bush gop abc cb bbc cnn wsj wpo', '__label__1  twelv fear kill pakistani air ambul helicopt crash ', '__label__0 eunicenjoki aiii need chill answer calmli like she attack', '__label__1 flyopinemonkey mean olymp also followup honshu oper coronet 1m alli casualti 30m japanes dead', '__label__0 mzgraciebabi record im jumpin window earli got officialrealrap bodi bag luck lol save file', '__label__0 one direct pick fan armi direction x1434', '__label__1 armageddon ', '__label__1 storm ri wors last hurrican cityamp3oth hardest hit yard look like bomb around 20000k still without power', '__label__1 rebelmage2 im glad got away xd safe refer tornado near calgari drum heller around 4', '__label__1 mexico construct bridg collaps kill one ', '__label__0 scream fuck hond', '__label__1 oop bounti hunter tri raid phoenix polic chief home group arm bounti ', '__label__0  jacksonvil famili band togeth memori plan toddler florida ', '__label__0 trollkratto juan carlo salvador secret tip get 100000 riot point lol check secret bio', '__label__0 hearitfrompa also pl help us w campaign warn public hazard keratin treatment brazilian blowout copycat', '__label__0 0day bug fulli patch os x come activ exploit bypass password ar technica ', '__label__0 mess feel like hurrican damag broken home', '__label__0 heart bigger obstacl front euro dontexpectnoth juli fire euro', '__label__1 obama keep 27 iraqi christian asylum seeker ndetent flood us wunscreen muslim via dcclotheslin', '__label__0 new stretcher 5 min fujiwara shunichiro 20150805 technolog ']\n"
          ],
          "name": "stdout"
        }
      ]
    },
    {
      "cell_type": "markdown",
      "metadata": {
        "id": "40oEYsJFqF6H",
        "colab_type": "text"
      },
      "source": [
        "## ML Algorithm Tuning & Testing\n",
        "\n",
        "This section was carried out completely on AWS SageMaker.\n",
        "\n",
        "Notice BlazingText will report validation accuracy when provided with a `validation` channel.\n",
        "\n",
        "\n",
        "Several models were trained, all based on BlazingText, tweaking the number of epochs: 1, 5, 10.\n",
        "\n",
        "Additionally, a separate experiment was done on the vector dimensions, using both 50-dim and the default 100-dim vectors with 5 and 10 epochs.\n",
        "\n",
        "Overall, the best result both on the training and validation sets was 50-dim vectors with 10 epochs (training accuracy = 0.9458), which was slightly better than 100-dim (0.9338). \n",
        "\n",
        "On the validation set, the results were the same for both 100-dim and 50-dim (accuracy = 0.7938), suggesting higher dimensionality for this dataset is overkill."
      ]
    },
    {
      "cell_type": "markdown",
      "metadata": {
        "id": "Dlts5JOMq-bG",
        "colab_type": "text"
      },
      "source": [
        "## Next steps\n",
        "\n",
        "It would be interesting to see a separate embedding training, outside SageMaker's built-in algorithms. For instance, Word2Vec embeddings fed into XGBoost could yield good results.\n",
        "\n",
        "Additionally, it would also be interesting to know how low we can go in dimensionality before hitting a limit."
      ]
    }
  ]
}